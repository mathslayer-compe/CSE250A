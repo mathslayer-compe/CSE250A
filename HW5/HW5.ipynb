{
 "cells": [
  {
   "cell_type": "code",
   "execution_count": 1,
   "id": "a65910ae-a9de-4963-8f48-8bef9b4bd8c1",
   "metadata": {},
   "outputs": [],
   "source": [
    "import math"
   ]
  },
  {
   "cell_type": "code",
   "execution_count": 3,
   "id": "74801774-bf84-4b0a-9ad9-93c7ab45a136",
   "metadata": {},
   "outputs": [],
   "source": [
    "with open('spectX-1.txt', 'r') as f:\n",
    "    features = [list(map(int, line.rstrip(' \\n').split(' '))) for line in f]\n",
    "\n",
    "with open('spectY-1.txt', 'r') as f:\n",
    "    labels = [int(line.rstrip(\"\\n\")) for line in f]"
   ]
  },
  {
   "cell_type": "code",
   "execution_count": 5,
   "id": "36ed10e6-221a-4901-9685-6b27c22cb7bd",
   "metadata": {},
   "outputs": [],
   "source": [
    "num_samples = len(features)\n",
    "iterations = 256\n",
    "num_features = 23\n",
    "probabilities = [0.05] * num_features\n",
    "feature_counts = [0] * num_features"
   ]
  },
  {
   "cell_type": "code",
   "execution_count": 7,
   "id": "1695b8a3-7ae3-4b79-982b-d58499d236a9",
   "metadata": {},
   "outputs": [],
   "source": [
    "for i in range(num_samples):\n",
    "    for j in range(num_features):\n",
    "        if features[i][j] == 1:\n",
    "            feature_counts[j] += 1"
   ]
  },
  {
   "cell_type": "code",
   "execution_count": 9,
   "id": "64220789-ffbf-4103-a2a8-11ea7c027c07",
   "metadata": {},
   "outputs": [],
   "source": [
    "log_likelihood = [0] * (iterations + 1)\n",
    "mistakes = [0] * (iterations + 1)"
   ]
  },
  {
   "cell_type": "code",
   "execution_count": 11,
   "id": "dfd012f9-337c-4a98-8d44-cd459aadbfc9",
   "metadata": {},
   "outputs": [],
   "source": [
    "for iteration in range(iterations + 1):\n",
    "    for sample in range(num_samples):\n",
    "        term_1 = 0\n",
    "        term_2 = 1\n",
    "        for feature in range(num_features):\n",
    "            if features[sample][feature] == 1:\n",
    "                term_1 += features[sample][feature] * (0 if probabilities[feature] == 0 else math.log(1 - probabilities[feature]))\n",
    "            term_2 *= (1 - probabilities[feature]) ** features[sample][feature]\n",
    "        log_likelihood[iteration] += (1 - labels[sample]) * term_1 + labels[sample] * math.log(1 - term_2)\n",
    "    \n",
    "    log_likelihood[iteration] /= num_samples\n",
    "    mistakes[iteration] = 0\n",
    "    for sample in range(num_samples):\n",
    "        probability = 1\n",
    "        for feature in range(num_features):\n",
    "            probability *= (1 - probabilities[feature]) ** features[sample][feature]\n",
    "        prob_of_1 = 1 - probability\n",
    "        if (labels[sample] == 1 and prob_of_1 <= 0.5) or (labels[sample] == 0 and prob_of_1 >= 0.5):\n",
    "            mistakes[iteration] += 1\n",
    "\n",
    "    posteriors = []\n",
    "    for sample in range(num_samples):\n",
    "        denominator = 1\n",
    "        for feature in range(num_features):\n",
    "            denominator *= (1 - probabilities[feature]) ** features[sample][feature]\n",
    "        posteriors.append([labels[sample] * features[sample][feature] * probabilities[feature] / (1 - denominator) for feature in range(num_features)])\n",
    "\n",
    "    for feature in range(num_features):\n",
    "        probabilities[feature] = sum(posteriors[sample][feature] for sample in range(num_samples)) / feature_counts[feature]"
   ]
  },
  {
   "cell_type": "code",
   "execution_count": 12,
   "id": "c472447f-df4a-4910-b9c7-69a92caed400",
   "metadata": {},
   "outputs": [
    {
     "name": "stdout",
     "output_type": "stream",
     "text": [
      "Iteration: 0 \t Mistakes: 175 \t Log Likelihood: -0.95809\n",
      "Iteration: 1 \t Mistakes: 56 \t Log Likelihood: -0.49592\n",
      "Iteration: 2 \t Mistakes: 43 \t Log Likelihood: -0.40822\n",
      "Iteration: 4 \t Mistakes: 42 \t Log Likelihood: -0.36461\n",
      "Iteration: 8 \t Mistakes: 44 \t Log Likelihood: -0.3475\n",
      "Iteration: 16 \t Mistakes: 40 \t Log Likelihood: -0.33462\n",
      "Iteration: 32 \t Mistakes: 37 \t Log Likelihood: -0.32258\n",
      "Iteration: 64 \t Mistakes: 37 \t Log Likelihood: -0.31483\n",
      "Iteration: 128 \t Mistakes: 36 \t Log Likelihood: -0.31116\n",
      "Iteration: 256 \t Mistakes: 36 \t Log Likelihood: -0.31016\n"
     ]
    }
   ],
   "source": [
    "for iteration in [0, 1, 2, 4, 8, 16, 32, 64, 128, 256]:\n",
    "    print(f\"Iteration: {iteration} \\t Mistakes: {mistakes[iteration]} \\t Log Likelihood: {round(log_likelihood[iteration], 5)}\")\n"
   ]
  }
 ],
 "metadata": {
  "kernelspec": {
   "display_name": "Python 3 (ipykernel)",
   "language": "python",
   "name": "python3"
  },
  "language_info": {
   "codemirror_mode": {
    "name": "ipython",
    "version": 3
   },
   "file_extension": ".py",
   "mimetype": "text/x-python",
   "name": "python",
   "nbconvert_exporter": "python",
   "pygments_lexer": "ipython3",
   "version": "3.12.3"
  }
 },
 "nbformat": 4,
 "nbformat_minor": 5
}
