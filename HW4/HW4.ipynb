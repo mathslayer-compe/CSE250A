{
 "cells": [
  {
   "cell_type": "code",
   "execution_count": 1,
   "id": "54ed5fb6-845c-4a3d-8620-46d5625d372f",
   "metadata": {},
   "outputs": [],
   "source": [
    "import pandas as pd\n",
    "import math\n",
    "import numpy as np\n",
    "import matplotlib.pyplot as plt"
   ]
  },
  {
   "cell_type": "code",
   "execution_count": 2,
   "id": "01191955-f399-45fa-a4e4-2114562fb9e5",
   "metadata": {},
   "outputs": [],
   "source": [
    "#a)\n",
    "with open('hw4_vocab.txt', 'r') as f:\n",
    "    words = f.readlines()\n",
    "    f.close()\n",
    "with open('hw4_unigram.txt', 'r') as f:\n",
    "    unigram_counts = f.readlines()\n",
    "    f.close()\n",
    "with open('hw4_bigram.txt', 'r') as f:\n",
    "    bigram_counts = f.readlines()\n",
    "    f.close()"
   ]
  },
  {
   "cell_type": "code",
   "execution_count": 3,
   "id": "04e3481c-f5a4-4c60-854b-0b1e0a3ba996",
   "metadata": {},
   "outputs": [],
   "source": [
    "int_unigram_ct = []\n",
    "for i in range(len(unigram_counts)):\n",
    "    int_unigram_ct.append(int(unigram_counts[i]))"
   ]
  },
  {
   "cell_type": "code",
   "execution_count": 4,
   "id": "9c44b369-23a7-452e-a696-6584c8ddae53",
   "metadata": {},
   "outputs": [],
   "source": [
    "return_list = []\n",
    "for i in range(len(words)):\n",
    "    if words[i][0] == 'M':\n",
    "        return_list.append([words[i], int(unigram_counts[i]) / sum(int_unigram_ct)])"
   ]
  },
  {
   "cell_type": "code",
   "execution_count": 5,
   "id": "16f8971b-2f27-44fb-aefc-68def3d72ddc",
   "metadata": {},
   "outputs": [
    {
     "data": {
      "text/plain": [
       "[['MILLION\\n', 0.002072759168154815],\n",
       " ['MORE\\n', 0.0017088989966186725],\n",
       " ['MR.\\n', 0.0014416083492816956],\n",
       " ['MOST\\n', 0.0007879173033190295],\n",
       " ['MARKET\\n', 0.0007803712804681068],\n",
       " ['MAY\\n', 0.0007298973156289532],\n",
       " ['M.\\n', 0.0007034067394618568],\n",
       " ['MANY\\n', 0.0006967290595970209],\n",
       " ['MADE\\n', 0.0005598610827336895],\n",
       " ['MUCH\\n', 0.0005145971758110562],\n",
       " ['MAKE\\n', 0.0005144626437991272],\n",
       " ['MONTH\\n', 0.00044490959363187093],\n",
       " ['MONEY\\n', 0.00043710673693999306],\n",
       " ['MONTHS\\n', 0.0004057607781605526],\n",
       " ['MY\\n', 0.0004003183467688823],\n",
       " ['MONDAY\\n', 0.00038198530259784006],\n",
       " ['MAJOR\\n', 0.00037089252670515475],\n",
       " ['MILITARY\\n', 0.00035204581485220204],\n",
       " ['MEMBERS\\n', 0.00033606096579846475],\n",
       " ['MIGHT\\n', 0.00027358919153183117],\n",
       " ['MEETING\\n', 0.0002657374141083427],\n",
       " ['MUST\\n', 0.0002665079156312084],\n",
       " ['ME\\n', 0.00026357267173457725],\n",
       " ['MARCH\\n', 0.0002597935452176646],\n",
       " ['MAN\\n', 0.0002528834918776787],\n",
       " ['MS.\\n', 0.0002389900041002911],\n",
       " ['MINISTER\\n', 0.00023977273580605944],\n",
       " ['MAKING\\n', 0.00021170446604452378],\n",
       " ['MOVE\\n', 0.0002099555498894477],\n",
       " ['MILES\\n', 0.00020596851026319035]]"
      ]
     },
     "execution_count": 5,
     "metadata": {},
     "output_type": "execute_result"
    }
   ],
   "source": [
    "return_list"
   ]
  },
  {
   "cell_type": "code",
   "execution_count": 6,
   "id": "b13db72c-3e5f-493f-a776-6fbc476f9c32",
   "metadata": {},
   "outputs": [],
   "source": [
    "#b) \n",
    "for i in range(len(bigram_counts)):\n",
    "    bigram_counts[i] = bigram_counts[i].split()\n",
    "    for j in range(len(bigram_counts[i])):\n",
    "        bigram_counts[i][j] = int(bigram_counts[i][j])"
   ]
  },
  {
   "cell_type": "code",
   "execution_count": 7,
   "id": "7914818d-2c8c-4786-b935-a864bb4d7672",
   "metadata": {},
   "outputs": [],
   "source": [
    "the_cond = []\n",
    "for i in range(len(bigram_counts)):\n",
    "    if bigram_counts[i][0] == 4:\n",
    "        the_cond.append(bigram_counts[i])"
   ]
  },
  {
   "cell_type": "code",
   "execution_count": 8,
   "id": "a55a0f09-56e2-41c1-a37f-3081a86a660e",
   "metadata": {},
   "outputs": [],
   "source": [
    "probabilities = []\n",
    "total_ct = 0\n",
    "for i in range(len(the_cond)):\n",
    "    total_ct += the_cond[i][2]"
   ]
  },
  {
   "cell_type": "code",
   "execution_count": 9,
   "id": "395dc7af-3299-451c-9163-b4ddff21da9d",
   "metadata": {},
   "outputs": [],
   "source": [
    "word_list = []\n",
    "for i in range(len(the_cond)):\n",
    "    probabilities.append(the_cond[i][2] / total_ct)\n",
    "    word_list.append(words[the_cond[i][1] - 1])"
   ]
  },
  {
   "cell_type": "code",
   "execution_count": 10,
   "id": "e45e3a8f-6125-43e7-a3f7-9ddabd0a7211",
   "metadata": {},
   "outputs": [],
   "source": [
    "word_list = pd.DataFrame(word_list)\n",
    "word_list.columns = ['Words']\n",
    "word_list['Probabilities'] = probabilities\n",
    "word_list = word_list.sort_values(by='Probabilities', ascending=False).reset_index()\n",
    "del word_list['index']"
   ]
  },
  {
   "cell_type": "code",
   "execution_count": 11,
   "id": "bd6784fe-9604-45f4-bad4-cb03309655fd",
   "metadata": {},
   "outputs": [
    {
     "name": "stdout",
     "output_type": "stream",
     "text": [
      "          Words  Probabilities\n",
      "0       <UNK>\\n       0.615020\n",
      "1          U.\\n       0.013372\n",
      "2       FIRST\\n       0.011720\n",
      "3     COMPANY\\n       0.011659\n",
      "4         NEW\\n       0.009451\n",
      "5      UNITED\\n       0.008672\n",
      "6  GOVERNMENT\\n       0.006803\n",
      "7    NINETEEN\\n       0.006651\n",
      "8        SAME\\n       0.006287\n",
      "9         TWO\\n       0.006161\n"
     ]
    }
   ],
   "source": [
    "print(word_list[0:10])"
   ]
  },
  {
   "cell_type": "code",
   "execution_count": 12,
   "id": "c15cd9e8-152b-4279-80a0-4b795df1572e",
   "metadata": {},
   "outputs": [],
   "source": [
    "#c)\n",
    "sentence = ['THE','STOCK','MARKET','FELL','BY','ONE','HUNDRED','POINTS','LAST','WEEK']\n",
    "prob = 1\n",
    "for i in range(len(sentence)):\n",
    "    idx = words.index(sentence[i]+'\\n')\n",
    "    prob *= int(unigram_counts[idx]) / sum(int_unigram_ct)\n",
    "lu = math.log(prob)"
   ]
  },
  {
   "cell_type": "code",
   "execution_count": 13,
   "id": "3e5b9f98-e182-4077-be06-50cf357e4849",
   "metadata": {},
   "outputs": [
    {
     "data": {
      "text/plain": [
       "-64.50944034364878"
      ]
     },
     "execution_count": 13,
     "metadata": {},
     "output_type": "execute_result"
    }
   ],
   "source": [
    "lu"
   ]
  },
  {
   "cell_type": "code",
   "execution_count": 14,
   "id": "d8ff9d50-d5e8-4c84-90c4-31bc421c794f",
   "metadata": {},
   "outputs": [],
   "source": [
    "sentence_b = ['<s>', 'THE','STOCK','MARKET','FELL','BY','ONE','HUNDRED','POINTS','LAST','WEEK']\n",
    "#pb = p(the|s)p(stock|the)p(market|stock)....p(week|last)\n",
    "word_indices = []\n",
    "for i in range(len(sentence_b)):\n",
    "    word_indices.append(words.index(sentence_b[i]+'\\n')+1)"
   ]
  },
  {
   "cell_type": "code",
   "execution_count": 15,
   "id": "ea83a1ed-c4ac-4367-8d77-9344272b9f51",
   "metadata": {},
   "outputs": [],
   "source": [
    "prob_b = 1\n",
    "for i in range(1, len(sentence_b)):\n",
    "    total_count = 0\n",
    "    idx_w1 = word_indices[i-1]\n",
    "    idx_w2 = word_indices[i]\n",
    "    for j in range(len(bigram_counts)):\n",
    "        if(bigram_counts[j][0] == idx_w1):\n",
    "            total_count += bigram_counts[j][2]\n",
    "            if bigram_counts[j][1] == idx_w2:\n",
    "                prob_num = bigram_counts[j][2]\n",
    "    prob_b *= prob_num/total_count\n",
    "lb = math.log(prob_b)"
   ]
  },
  {
   "cell_type": "code",
   "execution_count": 16,
   "id": "c476f94a-db79-4b60-af9b-19c425d332cf",
   "metadata": {},
   "outputs": [
    {
     "data": {
      "text/plain": [
       "-40.91813213378977"
      ]
     },
     "execution_count": 16,
     "metadata": {},
     "output_type": "execute_result"
    }
   ],
   "source": [
    "lb"
   ]
  },
  {
   "cell_type": "code",
   "execution_count": 17,
   "id": "31d7b715-c5af-4ab8-a6f7-a44bc34e6f44",
   "metadata": {},
   "outputs": [],
   "source": [
    "#d)\n",
    "sentence_d_u = ['THE','SIXTEEN','OFFICIALS','SOLD','FIRE','INSURANCE']\n",
    "prob = 1\n",
    "prob_arr = []\n",
    "for i in range(len(sentence_d_u)):\n",
    "    idx = words.index(sentence_d_u[i]+'\\n')\n",
    "    prob *= int(unigram_counts[idx]) / sum(int_unigram_ct)\n",
    "    prob_arr.append(int(unigram_counts[idx]) / sum(int_unigram_ct))\n",
    "lu = math.log(prob)"
   ]
  },
  {
   "cell_type": "code",
   "execution_count": 18,
   "id": "35646c52-e9c3-49d0-b5cf-aede9d2e1f4c",
   "metadata": {},
   "outputs": [
    {
     "data": {
      "text/plain": [
       "-44.291934473132606"
      ]
     },
     "execution_count": 18,
     "metadata": {},
     "output_type": "execute_result"
    }
   ],
   "source": [
    "lu"
   ]
  },
  {
   "cell_type": "code",
   "execution_count": 19,
   "id": "de3c415b-7712-4e51-b291-5820946fc63f",
   "metadata": {},
   "outputs": [],
   "source": [
    "sentence_d_b = ['<s>','THE','SIXTEEN','OFFICIALS','SOLD','FIRE','INSURANCE']\n",
    "word_indices = []\n",
    "prob_b_arr = []\n",
    "for i in range(len(sentence_d_b)):\n",
    "    word_indices.append(words.index(sentence_d_b[i]+'\\n')+1)\n",
    "prob_b = 1\n",
    "for i in range(1, len(sentence_d_b)):\n",
    "    total_count = 0\n",
    "    prob_num = float('-inf')\n",
    "    idx_w1 = word_indices[i-1]\n",
    "    idx_w2 = word_indices[i]\n",
    "    for j in range(len(bigram_counts)):\n",
    "        if(bigram_counts[j][0] == idx_w1):\n",
    "            total_count += bigram_counts[j][2]\n",
    "            if bigram_counts[j][1] == idx_w2:\n",
    "                prob_num = bigram_counts[j][2]\n",
    "    prob_b *= prob_num/total_count\n",
    "    prob_b_arr.append(prob_num / total_count)\n",
    "lb = math.log(prob_b)"
   ]
  },
  {
   "cell_type": "code",
   "execution_count": 20,
   "id": "691db781-25f3-4c6c-be4d-135e98f29070",
   "metadata": {},
   "outputs": [
    {
     "data": {
      "text/plain": [
       "inf"
      ]
     },
     "execution_count": 20,
     "metadata": {},
     "output_type": "execute_result"
    }
   ],
   "source": [
    "lb"
   ]
  },
  {
   "cell_type": "code",
   "execution_count": 21,
   "id": "57134f84-74ff-44d2-ae6c-1c02152f323b",
   "metadata": {},
   "outputs": [],
   "source": [
    "#e)\n",
    "def mix_model(lamb):\n",
    "    pm = 1\n",
    "    for i in range(len(prob_arr)):\n",
    "        if prob_b_arr[i] != float('-inf'):\n",
    "            temp_pm = (lamb*prob_arr[i])+((1-lamb)*prob_b_arr[i])\n",
    "        else:\n",
    "            temp_pm = lamb*prob_arr[i]\n",
    "        pm *= temp_pm\n",
    "    return math.log(pm)"
   ]
  },
  {
   "cell_type": "code",
   "execution_count": 22,
   "id": "65b41053-f330-48c1-a1da-e1326645ed89",
   "metadata": {},
   "outputs": [],
   "source": [
    "lambda_list = np.linspace(0.000000000001, 1, 1000)\n",
    "log_list = []\n",
    "for lamb in lambda_list:\n",
    "    log_list.append(mix_model(lamb))"
   ]
  },
  {
   "cell_type": "code",
   "execution_count": 23,
   "id": "2a737820-f8c9-4be5-97ec-a6f05a002b3e",
   "metadata": {},
   "outputs": [
    {
     "data": {
      "text/plain": [
       "Text(0, 0.5, 'Log Likelihood')"
      ]
     },
     "execution_count": 23,
     "metadata": {},
     "output_type": "execute_result"
    },
    {
     "data": {
      "image/png": "[encoded data removed]",
      "text/plain": [
       "<Figure size 640x480 with 1 Axes>"
      ]
     },
     "metadata": {},
     "output_type": "display_data"
    }
   ],
   "source": [
    "plt.plot(lambda_list, log_list)\n",
    "plt.xlabel('Lambda')\n",
    "plt.ylabel('Log Likelihood')"
   ]
  },
  {
   "cell_type": "code",
   "execution_count": 24,
   "id": "2de458d3-de8b-4bd8-982c-e27a44ef1982",
   "metadata": {},
   "outputs": [],
   "source": [
    "log_list = np.array(log_list)\n",
    "log_list = np.argsort(log_list)\n",
    "best_lambda = lambda_list[log_list[-1]]"
   ]
  },
  {
   "cell_type": "code",
   "execution_count": 25,
   "id": "6e93f1df-b3c6-4ddd-bcdf-6d79aa26bef7",
   "metadata": {},
   "outputs": [
    {
     "data": {
      "text/plain": [
       "0.647647647648"
      ]
     },
     "execution_count": 25,
     "metadata": {},
     "output_type": "execute_result"
    }
   ],
   "source": [
    "best_lambda"
   ]
  },
  {
   "cell_type": "code",
   "execution_count": 26,
   "id": "796d02c5-f0c5-4b50-8a88-9f70bf327b92",
   "metadata": {},
   "outputs": [
    {
     "data": {
      "text/plain": [
       "-42.964137594350596"
      ]
     },
     "execution_count": 26,
     "metadata": {},
     "output_type": "execute_result"
    }
   ],
   "source": [
    "mix_model(best_lambda)"
   ]
  }
 ],
 "metadata": {
  "kernelspec": {
   "display_name": "Python 3 (ipykernel)",
   "language": "python",
   "name": "python3"
  },
  "language_info": {
   "codemirror_mode": {
    "name": "ipython",
    "version": 3
   },
   "file_extension": ".py",
   "mimetype": "text/x-python",
   "name": "python",
   "nbconvert_exporter": "python",
   "pygments_lexer": "ipython3",
   "version": "3.12.3"
  }
 },
 "nbformat": 4,
 "nbformat_minor": 5
}
