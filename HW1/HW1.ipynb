{
 "cells": [
  {
   "cell_type": "code",
   "execution_count": 1,
   "id": "0c786152-e495-4fcb-8f6a-a3279d426a7d",
   "metadata": {},
   "outputs": [],
   "source": [
    "import pandas as pd\n",
    "import string"
   ]
  },
  {
   "cell_type": "code",
   "execution_count": 2,
   "id": "f87b0800-ceb3-47b6-89a1-405827a67d95",
   "metadata": {},
   "outputs": [],
   "source": [
    "lines = []\n",
    "with open('hw1_word_counts_05-1.txt', 'r') as file:\n",
    "    for line in file:\n",
    "        lines.append(line.strip())"
   ]
  },
  {
   "cell_type": "code",
   "execution_count": 3,
   "id": "8c17cc60-7af4-42d1-837d-110c5a4e6624",
   "metadata": {},
   "outputs": [],
   "source": [
    "word = []\n",
    "number = []\n",
    "for i in range(len(lines)):\n",
    "    word.append(lines[i].split()[0])\n",
    "    number.append(int(lines[i].split()[1]))"
   ]
  },
  {
   "cell_type": "code",
   "execution_count": 4,
   "id": "1dbb95a7-e064-4fcd-9ed8-b666ea93956d",
   "metadata": {},
   "outputs": [],
   "source": [
    "df = list(zip(word, number))"
   ]
  },
  {
   "cell_type": "code",
   "execution_count": 5,
   "id": "1813f9ce-eed7-489a-aed1-317441b9fa36",
   "metadata": {},
   "outputs": [],
   "source": [
    "df = pd.DataFrame({'Word':word, 'Frequency':number})"
   ]
  },
  {
   "cell_type": "code",
   "execution_count": 6,
   "id": "61ba7288-3c6e-4805-8b0f-5b57cfc7fd11",
   "metadata": {},
   "outputs": [
    {
     "data": {
      "text/html": [
       "<div>\n",
       "<style scoped>\n",
       "    .dataframe tbody tr th:only-of-type {\n",
       "        vertical-align: middle;\n",
       "    }\n",
       "\n",
       "    .dataframe tbody tr th {\n",
       "        vertical-align: top;\n",
       "    }\n",
       "\n",
       "    .dataframe thead th {\n",
       "        text-align: right;\n",
       "    }\n",
       "</style>\n",
       "<table border=\"1\" class=\"dataframe\">\n",
       "  <thead>\n",
       "    <tr style=\"text-align: right;\">\n",
       "      <th></th>\n",
       "      <th>Word</th>\n",
       "      <th>Frequency</th>\n",
       "    </tr>\n",
       "  </thead>\n",
       "  <tbody>\n",
       "    <tr>\n",
       "      <th>0</th>\n",
       "      <td>AARON</td>\n",
       "      <td>413</td>\n",
       "    </tr>\n",
       "    <tr>\n",
       "      <th>1</th>\n",
       "      <td>ABABA</td>\n",
       "      <td>199</td>\n",
       "    </tr>\n",
       "    <tr>\n",
       "      <th>2</th>\n",
       "      <td>ABACK</td>\n",
       "      <td>64</td>\n",
       "    </tr>\n",
       "    <tr>\n",
       "      <th>3</th>\n",
       "      <td>ABATE</td>\n",
       "      <td>69</td>\n",
       "    </tr>\n",
       "    <tr>\n",
       "      <th>4</th>\n",
       "      <td>ABBAS</td>\n",
       "      <td>290</td>\n",
       "    </tr>\n",
       "    <tr>\n",
       "      <th>...</th>\n",
       "      <td>...</td>\n",
       "      <td>...</td>\n",
       "    </tr>\n",
       "    <tr>\n",
       "      <th>6530</th>\n",
       "      <td>ZVIAD</td>\n",
       "      <td>30</td>\n",
       "    </tr>\n",
       "    <tr>\n",
       "      <th>6531</th>\n",
       "      <td>ZWEIG</td>\n",
       "      <td>44</td>\n",
       "    </tr>\n",
       "    <tr>\n",
       "      <th>6532</th>\n",
       "      <td>ZWICK</td>\n",
       "      <td>34</td>\n",
       "    </tr>\n",
       "    <tr>\n",
       "      <th>6533</th>\n",
       "      <td>ZYCIE</td>\n",
       "      <td>14</td>\n",
       "    </tr>\n",
       "    <tr>\n",
       "      <th>6534</th>\n",
       "      <td>ZYMAN</td>\n",
       "      <td>16</td>\n",
       "    </tr>\n",
       "  </tbody>\n",
       "</table>\n",
       "<p>6535 rows × 2 columns</p>\n",
       "</div>"
      ],
      "text/plain": [
       "       Word  Frequency\n",
       "0     AARON        413\n",
       "1     ABABA        199\n",
       "2     ABACK         64\n",
       "3     ABATE         69\n",
       "4     ABBAS        290\n",
       "...     ...        ...\n",
       "6530  ZVIAD         30\n",
       "6531  ZWEIG         44\n",
       "6532  ZWICK         34\n",
       "6533  ZYCIE         14\n",
       "6534  ZYMAN         16\n",
       "\n",
       "[6535 rows x 2 columns]"
      ]
     },
     "execution_count": 6,
     "metadata": {},
     "output_type": "execute_result"
    }
   ],
   "source": [
    "df"
   ]
  },
  {
   "cell_type": "code",
   "execution_count": 7,
   "id": "36a9b9f0-3cb9-439b-be65-23ce1ead451d",
   "metadata": {},
   "outputs": [],
   "source": [
    "df_increasing = df.sort_values(by='Frequency', ascending=False).reset_index()"
   ]
  },
  {
   "cell_type": "code",
   "execution_count": 8,
   "id": "12475c4a-fec5-4b00-ab15-169fe10aca49",
   "metadata": {},
   "outputs": [
    {
     "data": {
      "text/html": [
       "<div>\n",
       "<style scoped>\n",
       "    .dataframe tbody tr th:only-of-type {\n",
       "        vertical-align: middle;\n",
       "    }\n",
       "\n",
       "    .dataframe tbody tr th {\n",
       "        vertical-align: top;\n",
       "    }\n",
       "\n",
       "    .dataframe thead th {\n",
       "        text-align: right;\n",
       "    }\n",
       "</style>\n",
       "<table border=\"1\" class=\"dataframe\">\n",
       "  <thead>\n",
       "    <tr style=\"text-align: right;\">\n",
       "      <th></th>\n",
       "      <th>index</th>\n",
       "      <th>Word</th>\n",
       "      <th>Frequency</th>\n",
       "    </tr>\n",
       "  </thead>\n",
       "  <tbody>\n",
       "    <tr>\n",
       "      <th>0</th>\n",
       "      <td>5821</td>\n",
       "      <td>THREE</td>\n",
       "      <td>273077</td>\n",
       "    </tr>\n",
       "    <tr>\n",
       "      <th>1</th>\n",
       "      <td>5102</td>\n",
       "      <td>SEVEN</td>\n",
       "      <td>178842</td>\n",
       "    </tr>\n",
       "    <tr>\n",
       "      <th>2</th>\n",
       "      <td>1684</td>\n",
       "      <td>EIGHT</td>\n",
       "      <td>165764</td>\n",
       "    </tr>\n",
       "    <tr>\n",
       "      <th>3</th>\n",
       "      <td>6403</td>\n",
       "      <td>WOULD</td>\n",
       "      <td>159875</td>\n",
       "    </tr>\n",
       "    <tr>\n",
       "      <th>4</th>\n",
       "      <td>18</td>\n",
       "      <td>ABOUT</td>\n",
       "      <td>157448</td>\n",
       "    </tr>\n",
       "    <tr>\n",
       "      <th>...</th>\n",
       "      <td>...</td>\n",
       "      <td>...</td>\n",
       "      <td>...</td>\n",
       "    </tr>\n",
       "    <tr>\n",
       "      <th>6530</th>\n",
       "      <td>3554</td>\n",
       "      <td>MAPCO</td>\n",
       "      <td>6</td>\n",
       "    </tr>\n",
       "    <tr>\n",
       "      <th>6531</th>\n",
       "      <td>895</td>\n",
       "      <td>CAIXA</td>\n",
       "      <td>6</td>\n",
       "    </tr>\n",
       "    <tr>\n",
       "      <th>6532</th>\n",
       "      <td>4160</td>\n",
       "      <td>OTTIS</td>\n",
       "      <td>6</td>\n",
       "    </tr>\n",
       "    <tr>\n",
       "      <th>6533</th>\n",
       "      <td>5985</td>\n",
       "      <td>TROUP</td>\n",
       "      <td>6</td>\n",
       "    </tr>\n",
       "    <tr>\n",
       "      <th>6534</th>\n",
       "      <td>712</td>\n",
       "      <td>BOSAK</td>\n",
       "      <td>6</td>\n",
       "    </tr>\n",
       "  </tbody>\n",
       "</table>\n",
       "<p>6535 rows × 3 columns</p>\n",
       "</div>"
      ],
      "text/plain": [
       "      index   Word  Frequency\n",
       "0      5821  THREE     273077\n",
       "1      5102  SEVEN     178842\n",
       "2      1684  EIGHT     165764\n",
       "3      6403  WOULD     159875\n",
       "4        18  ABOUT     157448\n",
       "...     ...    ...        ...\n",
       "6530   3554  MAPCO          6\n",
       "6531    895  CAIXA          6\n",
       "6532   4160  OTTIS          6\n",
       "6533   5985  TROUP          6\n",
       "6534    712  BOSAK          6\n",
       "\n",
       "[6535 rows x 3 columns]"
      ]
     },
     "execution_count": 8,
     "metadata": {},
     "output_type": "execute_result"
    }
   ],
   "source": [
    "df_increasing"
   ]
  },
  {
   "cell_type": "code",
   "execution_count": 9,
   "id": "f6dbe945-877b-4372-8a88-2512703569bc",
   "metadata": {},
   "outputs": [
    {
     "name": "stdout",
     "output_type": "stream",
     "text": [
      "1) THREE 0.03562714868653127\n",
      "2) SEVEN 0.023332724928853858\n",
      "3) EIGHT 0.021626496097709325\n",
      "4) WOULD 0.02085818430793947\n",
      "5) ABOUT 0.020541544349751077\n",
      "6) THEIR 0.018974130893766185\n",
      "7) WHICH 0.018545160072784138\n",
      "8) AFTER 0.01436452108630337\n",
      "9) FIRST 0.014345603577470525\n",
      "10) FIFTY 0.013942725872119989\n",
      "11) OTHER 0.013836135494765265\n",
      "12) FORTY 0.012387837111638222\n",
      "13) YEARS 0.011598389898206841\n",
      "14) THERE 0.01128553344178502\n",
      "15) SIXTY 0.009535207245223231\n"
     ]
    }
   ],
   "source": [
    "for i in range(15):\n",
    "    print(str(i+1)+\")\", df_increasing['Word'][i], df_increasing['Frequency'][i]/sum(df['Frequency']))"
   ]
  },
  {
   "cell_type": "code",
   "execution_count": 10,
   "id": "22232866-f2a9-4321-a330-983e24e0f7e4",
   "metadata": {},
   "outputs": [],
   "source": [
    "df_decreasing = df.sort_values(by='Frequency', ascending=True).reset_index()"
   ]
  },
  {
   "cell_type": "code",
   "execution_count": 11,
   "id": "cb9ea2b0-96e9-4e18-b8dd-8d144f3c845d",
   "metadata": {},
   "outputs": [
    {
     "data": {
      "text/html": [
       "<div>\n",
       "<style scoped>\n",
       "    .dataframe tbody tr th:only-of-type {\n",
       "        vertical-align: middle;\n",
       "    }\n",
       "\n",
       "    .dataframe tbody tr th {\n",
       "        vertical-align: top;\n",
       "    }\n",
       "\n",
       "    .dataframe thead th {\n",
       "        text-align: right;\n",
       "    }\n",
       "</style>\n",
       "<table border=\"1\" class=\"dataframe\">\n",
       "  <thead>\n",
       "    <tr style=\"text-align: right;\">\n",
       "      <th></th>\n",
       "      <th>index</th>\n",
       "      <th>Word</th>\n",
       "      <th>Frequency</th>\n",
       "    </tr>\n",
       "  </thead>\n",
       "  <tbody>\n",
       "    <tr>\n",
       "      <th>0</th>\n",
       "      <td>3554</td>\n",
       "      <td>MAPCO</td>\n",
       "      <td>6</td>\n",
       "    </tr>\n",
       "    <tr>\n",
       "      <th>1</th>\n",
       "      <td>712</td>\n",
       "      <td>BOSAK</td>\n",
       "      <td>6</td>\n",
       "    </tr>\n",
       "    <tr>\n",
       "      <th>2</th>\n",
       "      <td>895</td>\n",
       "      <td>CAIXA</td>\n",
       "      <td>6</td>\n",
       "    </tr>\n",
       "    <tr>\n",
       "      <th>3</th>\n",
       "      <td>4160</td>\n",
       "      <td>OTTIS</td>\n",
       "      <td>6</td>\n",
       "    </tr>\n",
       "    <tr>\n",
       "      <th>4</th>\n",
       "      <td>5985</td>\n",
       "      <td>TROUP</td>\n",
       "      <td>6</td>\n",
       "    </tr>\n",
       "    <tr>\n",
       "      <th>...</th>\n",
       "      <td>...</td>\n",
       "      <td>...</td>\n",
       "      <td>...</td>\n",
       "    </tr>\n",
       "    <tr>\n",
       "      <th>6530</th>\n",
       "      <td>18</td>\n",
       "      <td>ABOUT</td>\n",
       "      <td>157448</td>\n",
       "    </tr>\n",
       "    <tr>\n",
       "      <th>6531</th>\n",
       "      <td>6403</td>\n",
       "      <td>WOULD</td>\n",
       "      <td>159875</td>\n",
       "    </tr>\n",
       "    <tr>\n",
       "      <th>6532</th>\n",
       "      <td>1684</td>\n",
       "      <td>EIGHT</td>\n",
       "      <td>165764</td>\n",
       "    </tr>\n",
       "    <tr>\n",
       "      <th>6533</th>\n",
       "      <td>5102</td>\n",
       "      <td>SEVEN</td>\n",
       "      <td>178842</td>\n",
       "    </tr>\n",
       "    <tr>\n",
       "      <th>6534</th>\n",
       "      <td>5821</td>\n",
       "      <td>THREE</td>\n",
       "      <td>273077</td>\n",
       "    </tr>\n",
       "  </tbody>\n",
       "</table>\n",
       "<p>6535 rows × 3 columns</p>\n",
       "</div>"
      ],
      "text/plain": [
       "      index   Word  Frequency\n",
       "0      3554  MAPCO          6\n",
       "1       712  BOSAK          6\n",
       "2       895  CAIXA          6\n",
       "3      4160  OTTIS          6\n",
       "4      5985  TROUP          6\n",
       "...     ...    ...        ...\n",
       "6530     18  ABOUT     157448\n",
       "6531   6403  WOULD     159875\n",
       "6532   1684  EIGHT     165764\n",
       "6533   5102  SEVEN     178842\n",
       "6534   5821  THREE     273077\n",
       "\n",
       "[6535 rows x 3 columns]"
      ]
     },
     "execution_count": 11,
     "metadata": {},
     "output_type": "execute_result"
    }
   ],
   "source": [
    "df_decreasing"
   ]
  },
  {
   "cell_type": "code",
   "execution_count": 12,
   "id": "03f43e40-6c1b-439a-b8a9-97f26fb264bf",
   "metadata": {},
   "outputs": [
    {
     "name": "stdout",
     "output_type": "stream",
     "text": [
      "1) MAPCO 7.827934689453437e-07\n",
      "2) BOSAK 7.827934689453437e-07\n",
      "3) CAIXA 7.827934689453437e-07\n",
      "4) OTTIS 7.827934689453437e-07\n",
      "5) TROUP 7.827934689453437e-07\n",
      "6) CLEFT 9.13259047102901e-07\n",
      "7) FOAMY 9.13259047102901e-07\n",
      "8) CCAIR 9.13259047102901e-07\n",
      "9) SERNA 9.13259047102901e-07\n",
      "10) YALOM 9.13259047102901e-07\n",
      "11) TOCOR 9.13259047102901e-07\n",
      "12) NIAID 9.13259047102901e-07\n",
      "13) PAXON 9.13259047102901e-07\n",
      "14) FABRI 9.13259047102901e-07\n"
     ]
    }
   ],
   "source": [
    "for i in range(14):\n",
    "    print(str(i+1)+\")\", df_decreasing['Word'][i], df_decreasing['Frequency'][i]/sum(df_decreasing['Frequency']))"
   ]
  },
  {
   "cell_type": "markdown",
   "id": "ab5c6f46-8d3f-46e1-bbe1-40282fa022bb",
   "metadata": {},
   "source": [
    "The above was for part a. Below this will be part b."
   ]
  },
  {
   "cell_type": "code",
   "execution_count": 13,
   "id": "25607b25-9692-491a-a4d4-eb9ce238e6f5",
   "metadata": {},
   "outputs": [],
   "source": [
    "prior_arr = []\n",
    "for i in range(len(number)):\n",
    "    total_freq = sum(number)\n",
    "    prior_arr.append(number[i] / total_freq)"
   ]
  },
  {
   "cell_type": "code",
   "execution_count": 14,
   "id": "e186cf6f-84ce-4f50-b9e0-95e034c62e63",
   "metadata": {},
   "outputs": [],
   "source": [
    "def filter_words(c, correct, incorrect):\n",
    "    word_validity = []\n",
    "    present_positions = [pos for _, pos in correct]\n",
    "\n",
    "    for i in range(len(word)):\n",
    "        w = word[i]\n",
    "        valid = True\n",
    "        \n",
    "        if any(absent in w for absent in incorrect):\n",
    "            word_validity.append(0)\n",
    "            continue\n",
    "        \n",
    "        for char, pos in correct:\n",
    "            if w[pos] != char or w[:pos].count(char) > 0 or w[pos+1:].count(char) > 0:\n",
    "                valid = False\n",
    "                break\n",
    "\n",
    "        if valid and (c is None or (c in w and i not in present_positions)):\n",
    "            word_validity.append(1)\n",
    "        else:\n",
    "            word_validity.append(0)\n",
    "\n",
    "    return word_validity"
   ]
  },
  {
   "cell_type": "code",
   "execution_count": 15,
   "id": "4f62e26f-d95f-4e80-aa24-83b95d32d909",
   "metadata": {},
   "outputs": [],
   "source": [
    "def calculate_probability(l, correct, incorrect):\n",
    "    word_validity = filter_words(None, correct, incorrect)\n",
    "    letter_validity = filter_words(l, correct, incorrect)\n",
    "\n",
    "    total_valid_prob = sum([word_validity[i] * prior_arr[i] for i in range(len(word))])\n",
    "\n",
    "    if total_valid_prob == 0:\n",
    "        return 0\n",
    "\n",
    "    word_probabilities = [word_validity[i] * prior_arr[i] / total_valid_prob for i in range(len(word))]\n",
    "    letter_prob = sum([letter_validity[i] * word_probabilities[i] for i in range(len(word))])\n",
    "\n",
    "    return letter_prob"
   ]
  },
  {
   "cell_type": "code",
   "execution_count": 16,
   "id": "5c5830d1-c3e5-4455-a30c-127c363b53aa",
   "metadata": {},
   "outputs": [],
   "source": [
    "def find_next_letter(correct, incorrect):\n",
    "    max_prob = 0\n",
    "    next_letter = None\n",
    "    present_chars = [char for char, _ in correct]\n",
    "    letters = 'ABCDEFGHIJKLMNOPQRSTUVWXYZ'\n",
    "    for char in letters:\n",
    "        if char not in present_chars:\n",
    "            prob = calculate_probability(char, correct, incorrect)\n",
    "\n",
    "            if prob > max_prob:\n",
    "                max_prob = prob\n",
    "                next_letter = char\n",
    "\n",
    "    return next_letter"
   ]
  },
  {
   "cell_type": "code",
   "execution_count": 17,
   "id": "e1f5821d-b8a2-4ebe-ac5a-6dd20da47ddb",
   "metadata": {},
   "outputs": [
    {
     "name": "stdout",
     "output_type": "stream",
     "text": [
      "E\n",
      "0.5394172389647974\n"
     ]
    }
   ],
   "source": [
    "correct = []\n",
    "incorrect = []\n",
    "print(find_next_letter(correct, incorrect))\n",
    "print(calculate_probability(find_next_letter(correct, incorrect), correct, incorrect))"
   ]
  },
  {
   "cell_type": "code",
   "execution_count": 18,
   "id": "ae525f4c-b530-4d57-a124-378fa59cfc18",
   "metadata": {},
   "outputs": [
    {
     "name": "stdout",
     "output_type": "stream",
     "text": [
      "O\n",
      "0.5340315651557657\n"
     ]
    }
   ],
   "source": [
    "correct = []\n",
    "incorrect = ['E','A']\n",
    "print(find_next_letter(correct, incorrect))\n",
    "print(calculate_probability(find_next_letter(correct, incorrect), correct, incorrect))"
   ]
  },
  {
   "cell_type": "code",
   "execution_count": 19,
   "id": "70b197d4-184e-4892-a443-b7db24a0dde3",
   "metadata": {},
   "outputs": [
    {
     "name": "stdout",
     "output_type": "stream",
     "text": [
      "E\n",
      "0.7715371621621622\n"
     ]
    }
   ],
   "source": [
    "correct = [('A',0), ('S',4)]\n",
    "incorrect = []\n",
    "print(find_next_letter(correct, incorrect))\n",
    "print(calculate_probability(find_next_letter(correct, incorrect), correct, incorrect))"
   ]
  },
  {
   "cell_type": "code",
   "execution_count": 20,
   "id": "1ecf6c02-e626-4a25-8895-4ed3b355d6a5",
   "metadata": {},
   "outputs": [
    {
     "name": "stdout",
     "output_type": "stream",
     "text": [
      "E\n",
      "0.7127008416220353\n"
     ]
    }
   ],
   "source": [
    "correct = [('A',0), ('S',4)]\n",
    "incorrect = ['I']\n",
    "print(find_next_letter(correct, incorrect))\n",
    "print(calculate_probability(find_next_letter(correct, incorrect), correct, incorrect))"
   ]
  },
  {
   "cell_type": "code",
   "execution_count": 21,
   "id": "a315f0e3-9e71-4d97-b476-8a07111e5e6f",
   "metadata": {},
   "outputs": [
    {
     "name": "stdout",
     "output_type": "stream",
     "text": [
      "R\n",
      "0.7453866259829712\n"
     ]
    }
   ],
   "source": [
    "correct = [('O',2)]\n",
    "incorrect = ['A','E','M','N','T']\n",
    "print(find_next_letter(correct, incorrect))\n",
    "print(calculate_probability(find_next_letter(correct, incorrect), correct, incorrect))"
   ]
  },
  {
   "cell_type": "code",
   "execution_count": 22,
   "id": "779e9f27-a595-4fba-ab33-2aa46061173a",
   "metadata": {},
   "outputs": [
    {
     "name": "stdout",
     "output_type": "stream",
     "text": [
      "I\n",
      "0.6365554141009611\n"
     ]
    }
   ],
   "source": [
    "correct = []\n",
    "incorrect = ['E','O']\n",
    "print(find_next_letter(correct, incorrect))\n",
    "print(calculate_probability(find_next_letter(correct, incorrect), correct, incorrect))"
   ]
  },
  {
   "cell_type": "code",
   "execution_count": 23,
   "id": "86ab0a89-ca65-4d46-81cf-c7f8963d7249",
   "metadata": {},
   "outputs": [
    {
     "name": "stdout",
     "output_type": "stream",
     "text": [
      "A\n",
      "0.8206845238095238\n"
     ]
    }
   ],
   "source": [
    "correct = [('D',0),('I',3)]\n",
    "incorrect = []\n",
    "print(find_next_letter(correct, incorrect))\n",
    "print(calculate_probability(find_next_letter(correct, incorrect), correct, incorrect))"
   ]
  },
  {
   "cell_type": "code",
   "execution_count": 24,
   "id": "ca796599-7d6e-4249-9694-38478ae631f1",
   "metadata": {},
   "outputs": [
    {
     "name": "stdout",
     "output_type": "stream",
     "text": [
      "E\n",
      "0.7520746887966805\n"
     ]
    }
   ],
   "source": [
    "correct = [('D',0),('I',3)]\n",
    "incorrect = ['A']\n",
    "print(find_next_letter(correct, incorrect))\n",
    "print(calculate_probability(find_next_letter(correct, incorrect), correct, incorrect))"
   ]
  },
  {
   "cell_type": "code",
   "execution_count": 25,
   "id": "e4a40aaf-ffdb-4123-baed-3811a6aab977",
   "metadata": {},
   "outputs": [
    {
     "name": "stdout",
     "output_type": "stream",
     "text": [
      "Y\n",
      "0.626965110163053\n"
     ]
    }
   ],
   "source": [
    "correct = [('U',1)]\n",
    "incorrect = ['A','E','I','O','S']\n",
    "print(find_next_letter(correct, incorrect))\n",
    "print(calculate_probability(find_next_letter(correct, incorrect), correct, incorrect))"
   ]
  }
 ],
 "metadata": {
  "kernelspec": {
   "display_name": "Python 3 (ipykernel)",
   "language": "python",
   "name": "python3"
  },
  "language_info": {
   "codemirror_mode": {
    "name": "ipython",
    "version": 3
   },
   "file_extension": ".py",
   "mimetype": "text/x-python",
   "name": "python",
   "nbconvert_exporter": "python",
   "pygments_lexer": "ipython3",
   "version": "3.12.3"
  }
 },
 "nbformat": 4,
 "nbformat_minor": 5
}
